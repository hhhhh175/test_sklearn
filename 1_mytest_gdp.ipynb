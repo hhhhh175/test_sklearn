{
 "cells": [
  {
   "cell_type": "code",
   "execution_count": 14,
   "id": "a33ba150-f541-4ae9-921f-55c7c03f1ddc",
   "metadata": {},
   "outputs": [
    {
     "name": "stdout",
     "output_type": "stream",
     "text": [
      "Country              36\n",
      "GDP per capita       36\n",
      "Life satisfaction    36\n",
      "dtype: int64\n",
      "[2, 3, 4, 5, 7, 9, 10, 11, 12, 13, 14, 15, 16, 17, 18, 19, 20, 21, 22, 23, 24, 25, 26, 27, 28, 29, 30, 31, 32]\n",
      "<class 'pandas.core.frame.DataFrame'>\n",
      "Int64Index: 29 entries, 2 to 32\n",
      "Data columns (total 3 columns):\n",
      " #   Column             Non-Null Count  Dtype  \n",
      "---  ------             --------------  -----  \n",
      " 0   Country            29 non-null     object \n",
      " 1   GDP per capita     29 non-null     float64\n",
      " 2   Life satisfaction  29 non-null     float64\n",
      "dtypes: float64(2), object(1)\n",
      "memory usage: 928.0+ bytes\n"
     ]
    }
   ],
   "source": [
    "import matplotlib.pyplot as plt\n",
    "import numpy as np\n",
    "import pandas as pd\n",
    "import sklearn.linear_model\n",
    "import os\n",
    "\n",
    "datapath = os.path.join(\"datasets\", \"lifesat\", \"\")\n",
    "# 加载数据\n",
    "full_country_stats = pd.read_csv(datapath + \"country_stats.csv\", thousands=',')\n",
    "print(full_country_stats.count())\n",
    "#清除异常值\n",
    "remove_indices = [0,1,6,8,33,34,35]\n",
    "keep_indices = list(set(range(36)) - set(remove_indices))\n",
    "print(keep_indices)\n",
    "\n",
    "sample_data = full_country_stats[['Country','GDP per capita','Life satisfaction']].iloc[keep_indices]\n",
    "missing_data = full_country_stats[['Country','GDP per capita','Life satisfaction']].iloc[remove_indices]\n",
    "sample_data.info()"
   ]
  },
  {
   "cell_type": "code",
   "execution_count": 15,
   "id": "2f96c321-7c23-49be-b612-2638e41fe544",
   "metadata": {},
   "outputs": [],
   "source": [
    "sample_data.set_index('Country',inplace=True)\n",
    "missing_data.set_index(\"Country\",inplace=True)"
   ]
  },
  {
   "cell_type": "code",
   "execution_count": 16,
   "id": "eda5bf78",
   "metadata": {},
   "outputs": [
    {
     "data": {
      "text/html": [
       "<div>\n",
       "<style scoped>\n",
       "    .dataframe tbody tr th:only-of-type {\n",
       "        vertical-align: middle;\n",
       "    }\n",
       "\n",
       "    .dataframe tbody tr th {\n",
       "        vertical-align: top;\n",
       "    }\n",
       "\n",
       "    .dataframe thead th {\n",
       "        text-align: right;\n",
       "    }\n",
       "</style>\n",
       "<table border=\"1\" class=\"dataframe\">\n",
       "  <thead>\n",
       "    <tr style=\"text-align: right;\">\n",
       "      <th></th>\n",
       "      <th>GDP per capita</th>\n",
       "      <th>Life satisfaction</th>\n",
       "    </tr>\n",
       "    <tr>\n",
       "      <th>Country</th>\n",
       "      <th></th>\n",
       "      <th></th>\n",
       "    </tr>\n",
       "  </thead>\n",
       "  <tbody>\n",
       "    <tr>\n",
       "      <th>Belgium</th>\n",
       "      <td>40106.632</td>\n",
       "      <td>6.9</td>\n",
       "    </tr>\n",
       "    <tr>\n",
       "      <th>Brazil</th>\n",
       "      <td>8669.998</td>\n",
       "      <td>7.0</td>\n",
       "    </tr>\n",
       "    <tr>\n",
       "      <th>Canada</th>\n",
       "      <td>43331.961</td>\n",
       "      <td>7.3</td>\n",
       "    </tr>\n",
       "    <tr>\n",
       "      <th>Chile</th>\n",
       "      <td>13340.905</td>\n",
       "      <td>6.7</td>\n",
       "    </tr>\n",
       "    <tr>\n",
       "      <th>Denmark</th>\n",
       "      <td>52114.165</td>\n",
       "      <td>7.5</td>\n",
       "    </tr>\n",
       "  </tbody>\n",
       "</table>\n",
       "</div>"
      ],
      "text/plain": [
       "         GDP per capita  Life satisfaction\n",
       "Country                                   \n",
       "Belgium       40106.632                6.9\n",
       "Brazil         8669.998                7.0\n",
       "Canada        43331.961                7.3\n",
       "Chile         13340.905                6.7\n",
       "Denmark       52114.165                7.5"
      ]
     },
     "execution_count": 16,
     "metadata": {},
     "output_type": "execute_result"
    }
   ],
   "source": [
    "sample_data.head()"
   ]
  },
  {
   "cell_type": "code",
   "execution_count": 19,
   "id": "d9d44bb3",
   "metadata": {},
   "outputs": [
    {
     "data": {
      "image/png": "[encoded data removed]",
      "text/plain": [
       "<Figure size 360x216 with 1 Axes>"
      ]
     },
     "metadata": {
      "needs_background": "light"
     },
     "output_type": "display_data"
    },
    {
     "data": {
      "image/png": "[encoded data removed]",
      "text/plain": [
       "<Figure size 360x216 with 1 Axes>"
      ]
     },
     "metadata": {
      "needs_background": "light"
     },
     "output_type": "display_data"
    }
   ],
   "source": [
    "#b是蓝色\n",
    "full_country_stats.plot(kind='scatter',x='GDP per capita',y='Life satisfaction',figsize=(5,3),c='b')\n",
    "sample_data.plot(kind='scatter',x='GDP per capita',y='Life satisfaction',figsize=(5,3),c='b')\n",
    "pos_data_x = missing_data['GDP per capita']\n",
    "pos_data_y = missing_data['Life satisfaction']\n",
    "plt.plot(pos_data_x,pos_data_y,'ro')\n",
    "plt.xlabel('GDP per capita (USD)')\n",
    "plt.show()"
   ]
  },
  {
   "cell_type": "code",
   "execution_count": 20,
   "id": "400d969f",
   "metadata": {},
   "outputs": [],
   "source": [
    "#设置X轴与Y轴\n",
    "x = np.c_[sample_data['GDP per capita']]\n",
    "y = np.c_[sample_data['Life satisfaction']]"
   ]
  },
  {
   "cell_type": "code",
   "execution_count": 22,
   "id": "caabb4dc",
   "metadata": {},
   "outputs": [
    {
     "data": {
      "text/plain": [
       "LinearRegression()"
      ]
     },
     "execution_count": 22,
     "metadata": {},
     "output_type": "execute_result"
    }
   ],
   "source": [
    "#选择一个线性模型，线性回归\n",
    "model = sklearn.linear_model.LinearRegression()\n",
    "model.fit(x,y)"
   ]
  },
  {
   "cell_type": "code",
   "execution_count": 26,
   "id": "5fbb60f1",
   "metadata": {},
   "outputs": [
    {
     "data": {
      "text/plain": [
       "(5.821070654502937, 2.1516816363324514e-05)"
      ]
     },
     "execution_count": 26,
     "metadata": {},
     "output_type": "execute_result"
    }
   ],
   "source": [
    "#获得最优拟合直线的截率与斜率\n",
    "t0 ,t1 = model.intercept_[0] , model.coef_[0][0]\n",
    "t0,t1"
   ]
  },
  {
   "cell_type": "code",
   "execution_count": 27,
   "id": "3db2ef28",
   "metadata": {},
   "outputs": [
    {
     "name": "stdout",
     "output_type": "stream",
     "text": [
      "[[6.30707099]]\n"
     ]
    }
   ],
   "source": [
    "#做一个预测，输入塞浦路斯人均GDP，预测该国幸福指数\n",
    "X_new = [[22587]]\n",
    "print(model.predict(X_new))"
   ]
  },
  {
   "cell_type": "code",
   "execution_count": 40,
   "id": "c620f794",
   "metadata": {},
   "outputs": [
    {
     "data": {
      "image/png": "[encoded data removed]",
      "text/plain": [
       "<Figure size 720x360 with 1 Axes>"
      ]
     },
     "metadata": {
      "needs_background": "light"
     },
     "output_type": "display_data"
    }
   ],
   "source": [
    "sample_data.plot(kind='scatter',x='GDP per capita',y='Life satisfaction',figsize=(10,5),c='b')\n",
    "X = np.linspace(0,60000,1000)\n",
    "plt.plot(X,t0+t1*X,'g')\n",
    "\n",
    "plt.text(3700,4,r'$\\theta_0= 4.85$',fontsize=14,color='y')\n",
    "plt.text(3700,3,r'$\\theta_0= 4.85$\\$times 10^{-5}$',color='y',fontsize=14)\n",
    "#画出塞浦路斯预测点\n",
    "plt.plot(X_new,model.predict(X_new),'ro')\n",
    "plt.xlabel(\"GDP per capita (USD)\")\n",
    "plt.axis([0,60000,0,10])\n",
    "plt.show()"
   ]
  },
  {
   "cell_type": "code",
   "execution_count": null,
   "id": "f50e4c79",
   "metadata": {},
   "outputs": [],
   "source": []
  }
 ],
 "metadata": {
  "kernelspec": {
   "display_name": "Python 3 (ipykernel)",
   "language": "python",
   "name": "python3"
  },
  "language_info": {
   "codemirror_mode": {
    "name": "ipython",
    "version": 3
   },
   "file_extension": ".py",
   "mimetype": "text/x-python",
   "name": "python",
   "nbconvert_exporter": "python",
   "pygments_lexer": "ipython3",
   "version": "3.9.7"
  }
 },
 "nbformat": 4,
 "nbformat_minor": 5
}
